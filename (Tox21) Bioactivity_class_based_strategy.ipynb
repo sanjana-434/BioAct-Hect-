{
 "cells": [
  {
   "cell_type": "markdown",
   "metadata": {
    "heading_collapsed": true,
    "id": "uudYItMGJel0"
   },
   "source": [
    "# Install Library\n",
    "\n",
    "[RDKit ](https://github.com/rdkit/rdkit)\n",
    "\n",
    "[DGL](https://github.com/dmlc/dgl/)\n",
    "\n",
    "[DGL-LifeSci](https://github.com/awslabs/dgl-lifesci)\n",
    "\n",
    "\n",
    "\n"
   ]
  },
  {
   "cell_type": "code",
   "execution_count": 1,
   "metadata": {
    "colab": {
     "base_uri": "https://localhost:8080/"
    },
    "hidden": true,
    "id": "IYZ1ollGWzma",
    "outputId": "2783c8df-d3b8-4606-9611-7ee6e9407627"
   },
   "outputs": [
    {
     "name": "stdout",
     "output_type": "stream",
     "text": [
      "Looking in links: https://data.dgl.ai/wheels/cu113/repo.html\n",
      "Requirement already satisfied: dgl in c:\\users\\user\\anaconda3\\lib\\site-packages (2.0.0)\n",
      "Requirement already satisfied: numpy>=1.14.0 in c:\\users\\user\\anaconda3\\lib\\site-packages (from dgl) (1.26.4)\n",
      "Requirement already satisfied: scipy>=1.1.0 in c:\\users\\user\\anaconda3\\lib\\site-packages (from dgl) (1.11.4)\n",
      "Requirement already satisfied: networkx>=2.1 in c:\\users\\user\\anaconda3\\lib\\site-packages (from dgl) (3.1)\n",
      "Requirement already satisfied: requests>=2.19.0 in c:\\users\\user\\anaconda3\\lib\\site-packages (from dgl) (2.31.0)\n",
      "Requirement already satisfied: tqdm in c:\\users\\user\\anaconda3\\lib\\site-packages (from dgl) (4.65.0)\n",
      "Requirement already satisfied: psutil>=5.8.0 in c:\\users\\user\\anaconda3\\lib\\site-packages (from dgl) (5.9.0)\n",
      "Requirement already satisfied: torchdata>=0.5.0 in c:\\users\\user\\anaconda3\\lib\\site-packages (from dgl) (0.7.1)\n",
      "Requirement already satisfied: charset-normalizer<4,>=2 in c:\\users\\user\\anaconda3\\lib\\site-packages (from requests>=2.19.0->dgl) (2.0.4)\n",
      "Requirement already satisfied: idna<4,>=2.5 in c:\\users\\user\\anaconda3\\lib\\site-packages (from requests>=2.19.0->dgl) (3.4)\n",
      "Requirement already satisfied: urllib3<3,>=1.21.1 in c:\\users\\user\\anaconda3\\lib\\site-packages (from requests>=2.19.0->dgl) (2.0.7)\n",
      "Requirement already satisfied: certifi>=2017.4.17 in c:\\users\\user\\anaconda3\\lib\\site-packages (from requests>=2.19.0->dgl) (2024.2.2)\n",
      "Requirement already satisfied: torch>=2 in c:\\users\\user\\anaconda3\\lib\\site-packages (from torchdata>=0.5.0->dgl) (2.2.2)\n",
      "Requirement already satisfied: colorama in c:\\users\\user\\anaconda3\\lib\\site-packages (from tqdm->dgl) (0.4.6)\n",
      "Requirement already satisfied: filelock in c:\\users\\user\\anaconda3\\lib\\site-packages (from torch>=2->torchdata>=0.5.0->dgl) (3.13.1)\n",
      "Requirement already satisfied: typing-extensions>=4.8.0 in c:\\users\\user\\anaconda3\\lib\\site-packages (from torch>=2->torchdata>=0.5.0->dgl) (4.9.0)\n",
      "Requirement already satisfied: sympy in c:\\users\\user\\anaconda3\\lib\\site-packages (from torch>=2->torchdata>=0.5.0->dgl) (1.12)\n",
      "Requirement already satisfied: jinja2 in c:\\users\\user\\anaconda3\\lib\\site-packages (from torch>=2->torchdata>=0.5.0->dgl) (3.1.3)\n",
      "Requirement already satisfied: fsspec in c:\\users\\user\\anaconda3\\lib\\site-packages (from torch>=2->torchdata>=0.5.0->dgl) (2023.10.0)\n",
      "Requirement already satisfied: MarkupSafe>=2.0 in c:\\users\\user\\anaconda3\\lib\\site-packages (from jinja2->torch>=2->torchdata>=0.5.0->dgl) (2.1.3)\n",
      "Requirement already satisfied: mpmath>=0.19 in c:\\users\\user\\anaconda3\\lib\\site-packages (from sympy->torch>=2->torchdata>=0.5.0->dgl) (1.3.0)\n",
      "Note: you may need to restart the kernel to use updated packages.\n",
      "Looking in links: https://data.dgl.ai/wheels-test/repo.htmlNote: you may need to restart the kernel to use updated packages.\n",
      "\n",
      "Requirement already satisfied: dglgo in c:\\users\\user\\anaconda3\\lib\\site-packages (0.0.2)\n",
      "Requirement already satisfied: typer>=0.4.0 in c:\\users\\user\\anaconda3\\lib\\site-packages (from dglgo) (0.12.3)\n",
      "Requirement already satisfied: isort>=5.10.1 in c:\\users\\user\\anaconda3\\lib\\site-packages (from dglgo) (6.0.0b2)\n",
      "Requirement already satisfied: autopep8>=1.6.0 in c:\\users\\user\\anaconda3\\lib\\site-packages (from dglgo) (1.6.0)\n",
      "Requirement already satisfied: numpydoc>=1.1.0 in c:\\users\\user\\anaconda3\\lib\\site-packages (from dglgo) (1.5.0)\n",
      "Requirement already satisfied: pydantic>=1.9.0 in c:\\users\\user\\anaconda3\\lib\\site-packages (from dglgo) (1.10.12)\n",
      "Requirement already satisfied: ruamel.yaml>=0.17.20 in c:\\users\\user\\anaconda3\\lib\\site-packages (from dglgo) (0.17.21)\n",
      "Requirement already satisfied: PyYAML>=5.1 in c:\\users\\user\\anaconda3\\lib\\site-packages (from dglgo) (6.0.1)\n",
      "Requirement already satisfied: ogb>=1.3.3 in c:\\users\\user\\anaconda3\\lib\\site-packages (from dglgo) (1.3.6)\n",
      "Requirement already satisfied: rdkit-pypi in c:\\users\\user\\anaconda3\\lib\\site-packages (from dglgo) (2022.9.5)\n",
      "Requirement already satisfied: scikit-learn>=0.20.0 in c:\\users\\user\\anaconda3\\lib\\site-packages (from dglgo) (1.2.2)\n",
      "Requirement already satisfied: pycodestyle>=2.8.0 in c:\\users\\user\\anaconda3\\lib\\site-packages (from autopep8>=1.6.0->dglgo) (2.10.0)\n",
      "Requirement already satisfied: toml in c:\\users\\user\\anaconda3\\lib\\site-packages (from autopep8>=1.6.0->dglgo) (0.10.2)\n",
      "Requirement already satisfied: sphinx>=4.2 in c:\\users\\user\\anaconda3\\lib\\site-packages (from numpydoc>=1.1.0->dglgo) (5.0.2)\n",
      "Requirement already satisfied: Jinja2>=2.10 in c:\\users\\user\\anaconda3\\lib\\site-packages (from numpydoc>=1.1.0->dglgo) (3.1.3)\n",
      "Requirement already satisfied: torch>=1.6.0 in c:\\users\\user\\anaconda3\\lib\\site-packages (from ogb>=1.3.3->dglgo) (2.2.2)\n",
      "Requirement already satisfied: numpy>=1.16.0 in c:\\users\\user\\anaconda3\\lib\\site-packages (from ogb>=1.3.3->dglgo) (1.26.4)\n",
      "Requirement already satisfied: tqdm>=4.29.0 in c:\\users\\user\\anaconda3\\lib\\site-packages (from ogb>=1.3.3->dglgo) (4.65.0)\n",
      "Requirement already satisfied: pandas>=0.24.0 in c:\\users\\user\\anaconda3\\lib\\site-packages (from ogb>=1.3.3->dglgo) (2.1.4)\n",
      "Requirement already satisfied: six>=1.12.0 in c:\\users\\user\\anaconda3\\lib\\site-packages (from ogb>=1.3.3->dglgo) (1.16.0)\n",
      "Requirement already satisfied: urllib3>=1.24.0 in c:\\users\\user\\anaconda3\\lib\\site-packages (from ogb>=1.3.3->dglgo) (2.0.7)\n",
      "Requirement already satisfied: outdated>=0.2.0 in c:\\users\\user\\anaconda3\\lib\\site-packages (from ogb>=1.3.3->dglgo) (0.2.2)\n",
      "Requirement already satisfied: typing-extensions>=4.2.0 in c:\\users\\user\\anaconda3\\lib\\site-packages (from pydantic>=1.9.0->dglgo) (4.9.0)\n",
      "Requirement already satisfied: scipy>=1.3.2 in c:\\users\\user\\anaconda3\\lib\\site-packages (from scikit-learn>=0.20.0->dglgo) (1.11.4)\n",
      "Requirement already satisfied: joblib>=1.1.1 in c:\\users\\user\\anaconda3\\lib\\site-packages (from scikit-learn>=0.20.0->dglgo) (1.2.0)\n",
      "Requirement already satisfied: threadpoolctl>=2.0.0 in c:\\users\\user\\anaconda3\\lib\\site-packages (from scikit-learn>=0.20.0->dglgo) (2.2.0)\n",
      "Requirement already satisfied: click>=8.0.0 in c:\\users\\user\\anaconda3\\lib\\site-packages (from typer>=0.4.0->dglgo) (8.1.7)\n",
      "Requirement already satisfied: shellingham>=1.3.0 in c:\\users\\user\\anaconda3\\lib\\site-packages (from typer>=0.4.0->dglgo) (1.5.4)\n",
      "Requirement already satisfied: rich>=10.11.0 in c:\\users\\user\\anaconda3\\lib\\site-packages (from typer>=0.4.0->dglgo) (13.3.5)\n",
      "Requirement already satisfied: Pillow in c:\\users\\user\\anaconda3\\lib\\site-packages (from rdkit-pypi->dglgo) (10.2.0)\n",
      "Requirement already satisfied: colorama in c:\\users\\user\\anaconda3\\lib\\site-packages (from click>=8.0.0->typer>=0.4.0->dglgo) (0.4.6)\n",
      "Requirement already satisfied: MarkupSafe>=2.0 in c:\\users\\user\\anaconda3\\lib\\site-packages (from Jinja2>=2.10->numpydoc>=1.1.0->dglgo) (2.1.3)\n",
      "Requirement already satisfied: setuptools>=44 in c:\\users\\user\\anaconda3\\lib\\site-packages (from outdated>=0.2.0->ogb>=1.3.3->dglgo) (68.2.2)\n",
      "Requirement already satisfied: littleutils in c:\\users\\user\\anaconda3\\lib\\site-packages (from outdated>=0.2.0->ogb>=1.3.3->dglgo) (0.2.2)\n",
      "Requirement already satisfied: requests in c:\\users\\user\\anaconda3\\lib\\site-packages (from outdated>=0.2.0->ogb>=1.3.3->dglgo) (2.31.0)\n",
      "Requirement already satisfied: python-dateutil>=2.8.2 in c:\\users\\user\\anaconda3\\lib\\site-packages (from pandas>=0.24.0->ogb>=1.3.3->dglgo) (2.8.2)\n",
      "Requirement already satisfied: pytz>=2020.1 in c:\\users\\user\\anaconda3\\lib\\site-packages (from pandas>=0.24.0->ogb>=1.3.3->dglgo) (2023.3.post1)\n",
      "Requirement already satisfied: tzdata>=2022.1 in c:\\users\\user\\anaconda3\\lib\\site-packages (from pandas>=0.24.0->ogb>=1.3.3->dglgo) (2023.3)\n",
      "Requirement already satisfied: markdown-it-py<3.0.0,>=2.2.0 in c:\\users\\user\\anaconda3\\lib\\site-packages (from rich>=10.11.0->typer>=0.4.0->dglgo) (2.2.0)\n",
      "Requirement already satisfied: pygments<3.0.0,>=2.13.0 in c:\\users\\user\\anaconda3\\lib\\site-packages (from rich>=10.11.0->typer>=0.4.0->dglgo) (2.15.1)\n",
      "Requirement already satisfied: sphinxcontrib-applehelp in c:\\users\\user\\anaconda3\\lib\\site-packages (from sphinx>=4.2->numpydoc>=1.1.0->dglgo) (1.0.2)\n",
      "Requirement already satisfied: sphinxcontrib-devhelp in c:\\users\\user\\anaconda3\\lib\\site-packages (from sphinx>=4.2->numpydoc>=1.1.0->dglgo) (1.0.2)\n",
      "Requirement already satisfied: sphinxcontrib-jsmath in c:\\users\\user\\anaconda3\\lib\\site-packages (from sphinx>=4.2->numpydoc>=1.1.0->dglgo) (1.0.1)\n",
      "Requirement already satisfied: sphinxcontrib-htmlhelp>=2.0.0 in c:\\users\\user\\anaconda3\\lib\\site-packages (from sphinx>=4.2->numpydoc>=1.1.0->dglgo) (2.0.0)\n",
      "Requirement already satisfied: sphinxcontrib-serializinghtml>=1.1.5 in c:\\users\\user\\anaconda3\\lib\\site-packages (from sphinx>=4.2->numpydoc>=1.1.0->dglgo) (1.1.5)\n",
      "Requirement already satisfied: sphinxcontrib-qthelp in c:\\users\\user\\anaconda3\\lib\\site-packages (from sphinx>=4.2->numpydoc>=1.1.0->dglgo) (1.0.3)\n",
      "Requirement already satisfied: docutils<0.19,>=0.14 in c:\\users\\user\\anaconda3\\lib\\site-packages (from sphinx>=4.2->numpydoc>=1.1.0->dglgo) (0.18.1)\n",
      "Requirement already satisfied: snowballstemmer>=1.1 in c:\\users\\user\\anaconda3\\lib\\site-packages (from sphinx>=4.2->numpydoc>=1.1.0->dglgo) (2.2.0)\n",
      "Requirement already satisfied: babel>=1.3 in c:\\users\\user\\anaconda3\\lib\\site-packages (from sphinx>=4.2->numpydoc>=1.1.0->dglgo) (2.11.0)\n",
      "Requirement already satisfied: alabaster<0.8,>=0.7 in c:\\users\\user\\anaconda3\\lib\\site-packages (from sphinx>=4.2->numpydoc>=1.1.0->dglgo) (0.7.12)\n",
      "Requirement already satisfied: imagesize in c:\\users\\user\\anaconda3\\lib\\site-packages (from sphinx>=4.2->numpydoc>=1.1.0->dglgo) (1.4.1)\n",
      "Requirement already satisfied: packaging in c:\\users\\user\\anaconda3\\lib\\site-packages (from sphinx>=4.2->numpydoc>=1.1.0->dglgo) (23.1)\n",
      "Requirement already satisfied: filelock in c:\\users\\user\\anaconda3\\lib\\site-packages (from torch>=1.6.0->ogb>=1.3.3->dglgo) (3.13.1)\n",
      "Requirement already satisfied: sympy in c:\\users\\user\\anaconda3\\lib\\site-packages (from torch>=1.6.0->ogb>=1.3.3->dglgo) (1.12)\n",
      "Requirement already satisfied: networkx in c:\\users\\user\\anaconda3\\lib\\site-packages (from torch>=1.6.0->ogb>=1.3.3->dglgo) (3.1)\n",
      "Requirement already satisfied: fsspec in c:\\users\\user\\anaconda3\\lib\\site-packages (from torch>=1.6.0->ogb>=1.3.3->dglgo) (2023.10.0)\n",
      "Requirement already satisfied: mdurl~=0.1 in c:\\users\\user\\anaconda3\\lib\\site-packages (from markdown-it-py<3.0.0,>=2.2.0->rich>=10.11.0->typer>=0.4.0->dglgo) (0.1.0)\n",
      "Requirement already satisfied: charset-normalizer<4,>=2 in c:\\users\\user\\anaconda3\\lib\\site-packages (from requests->outdated>=0.2.0->ogb>=1.3.3->dglgo) (2.0.4)\n",
      "Requirement already satisfied: idna<4,>=2.5 in c:\\users\\user\\anaconda3\\lib\\site-packages (from requests->outdated>=0.2.0->ogb>=1.3.3->dglgo) (3.4)\n",
      "Requirement already satisfied: certifi>=2017.4.17 in c:\\users\\user\\anaconda3\\lib\\site-packages (from requests->outdated>=0.2.0->ogb>=1.3.3->dglgo) (2024.2.2)\n",
      "Requirement already satisfied: mpmath>=0.19 in c:\\users\\user\\anaconda3\\lib\\site-packages (from sympy->torch>=1.6.0->ogb>=1.3.3->dglgo) (1.3.0)\n"
     ]
    }
   ],
   "source": [
    "%pip install --pre dgl -f https://data.dgl.ai/wheels/cu113/repo.html\n",
    "%pip install --pre dglgo -f https://data.dgl.ai/wheels-test/repo.html"
   ]
  },
  {
   "cell_type": "code",
   "execution_count": 2,
   "metadata": {
    "hidden": true,
    "id": "271tuyJSQ-m3"
   },
   "outputs": [],
   "source": [
    "%%capture\n",
    "%pip install rdkit-pypi\n",
    "%pip install dgllife"
   ]
  },
  {
   "cell_type": "markdown",
   "metadata": {
    "heading_collapsed": true,
    "id": "il7EqGqbY5pK"
   },
   "source": [
    "# Import Library"
   ]
  },
  {
   "cell_type": "code",
   "execution_count": 5,
   "metadata": {
    "hidden": true
   },
   "outputs": [],
   "source": [
    "import os\n",
    "os.environ['PYTHONHASHSEED'] = '0'\n",
    "os.environ['CUDA_VISIBLE_DEVICES']='-1'\n",
    "os.environ['TF_CUDNN_USE_AUTOTUNE'] ='0'\n",
    "\n",
    "import dgl \n",
    "import sys\n",
    "import torch\n",
    "import random\n",
    "import statistics\n",
    "import cv2\n",
    "import pandas as pd\n",
    "import numpy as np\n",
    "import matplotlib.pyplot as plt\n",
    "import tensorflow as tf\n",
    "\n",
    "from numpy import array\n",
    "from numpy import argmax\n",
    "from tensorflow.keras.utils import to_categorical\n",
    "from tensorflow.keras.callbacks import  History\n",
    "from dgllife.utils import smiles_to_bigraph, CanonicalAtomFeaturizer, AttentiveFPAtomFeaturizer\n",
    "from tqdm.notebook import tqdm, trange\n",
    "from sklearn.model_selection import train_test_split\n",
    "\n",
    "from utils.general import DATASET, get_dataset, separate_active_and_inactive_data, get_embedding_vector_class, count_lablel,data_generator\n",
    "from utils.gcn_pre_trained import get_tox21_model\n",
    "from Models.heterogeneous_siamese_tox21 import siamese_model_attentiveFp_tox21, siamese_model_Canonical_tox21\n",
    "\n",
    "\n",
    "random.seed(1)\n",
    "np.random.seed(1)\n",
    "tf.random.set_seed(1)\n",
    "\n",
    "device = torch.device('cuda' if torch.cuda.is_available() else 'cpu')"
   ]
  },
  {
   "cell_type": "markdown",
   "metadata": {
    "heading_collapsed": true,
    "id": "1RVgRpTmQ5rp"
   },
   "source": [
    "# Data"
   ]
  },
  {
   "cell_type": "code",
   "execution_count": 6,
   "metadata": {
    "colab": {
     "base_uri": "https://localhost:8080/"
    },
    "hidden": true,
    "id": "VunMwXfRM09K",
    "outputId": "66c67adf-0024-4585-81a1-897e7ad4638c"
   },
   "outputs": [],
   "source": [
    "cache_path='./tox21_dglgraph.bin'\n",
    "\n",
    "df = get_dataset(\"tox21\")\n",
    "id = df['mol_id']\n",
    "df = df.drop(columns=['mol_id'])"
   ]
  },
  {
   "cell_type": "code",
   "execution_count": 7,
   "metadata": {
    "hidden": true,
    "id": "rY_JnWz5M6bU"
   },
   "outputs": [],
   "source": [
    "tox21_tasks = df.columns.values[:12].tolist()\n",
    "tox21_tasks_test = tox21_tasks[9:12]\n",
    "train_task, valid_task= train_test_split(tox21_tasks, test_size=0.2 , shuffle= False)"
   ]
  },
  {
   "cell_type": "code",
   "execution_count": 8,
   "metadata": {
    "colab": {
     "base_uri": "https://localhost:8080/"
    },
    "hidden": true,
    "id": "HO5RmBnZM8mq",
    "outputId": "4b0ad369-893f-4246-bbdf-4257b3016f35"
   },
   "outputs": [
    {
     "name": "stdout",
     "output_type": "stream",
     "text": [
      "NR-AR one: 309  zero: 6956  NAN: 566\n",
      "NR-AR-LBD one: 237  zero: 6521  NAN: 1073\n",
      "NR-AhR one: 768  zero: 5781  NAN: 1282\n",
      "NR-Aromatase one: 300  zero: 5521  NAN: 2010\n",
      "NR-ER one: 793  zero: 5400  NAN: 1638\n",
      "NR-ER-LBD one: 350  zero: 6605  NAN: 876\n",
      "NR-PPAR-gamma one: 186  zero: 6264  NAN: 1381\n",
      "SR-ARE one: 942  zero: 4890  NAN: 1999\n",
      "SR-ATAD5 one: 264  zero: 6808  NAN: 759\n",
      "SR-HSE one: 372  zero: 6095  NAN: 1364\n",
      "SR-MMP one: 918  zero: 4892  NAN: 2021\n",
      "SR-p53 one: 423  zero: 6351  NAN: 1057\n"
     ]
    }
   ],
   "source": [
    "one = []\n",
    "zero = []\n",
    "nan = []\n",
    " \n",
    "for task in tox21_tasks:\n",
    "    a = list(df[task].value_counts(dropna=False).to_dict().values())\n",
    "    zero.append(a[0])\n",
    "    nan.append(a[1])\n",
    "    one.append(a[2])\n",
    "    print(task ,\"one:\" ,a[2] ,\" zero:\", a[0], \" NAN:\",a[1])\n"
   ]
  },
  {
   "cell_type": "code",
   "execution_count": 9,
   "metadata": {
    "colab": {
     "base_uri": "https://localhost:8080/",
     "height": 894
    },
    "hidden": true,
    "id": "ZZcv6iPNNS19",
    "outputId": "6c6f9597-0181-4b83-8e31-943902aedb01"
   },
   "outputs": [
    {
     "data": {
      "image/png": "[encoded data removed]",
      "text/plain": [
       "<Figure size 2000x1500 with 1 Axes>"
      ]
     },
     "metadata": {},
     "output_type": "display_data"
    }
   ],
   "source": [
    "# Importing the matplotlib library\n",
    "import numpy as np\n",
    "import matplotlib.pyplot as plt\n",
    "# Declaring the figure or the plot (y, x) or (width, height)\n",
    "plt.figure(figsize=[20, 15])\n",
    "\n",
    "X = np.arange(1,len(tox21_tasks)+1)\n",
    "plt.bar(X + 0.2, one, color = 'g', width = 0.25)\n",
    "plt.bar(X + 0.4, zero, color = 'b', width = 0.25)\n",
    "plt.bar(X + 0.6, nan, color = 'r', width = 0.25)\n",
    "\n",
    "# Creating the legend of the bars in the plot\n",
    "plt.legend(['Active' , 'Inactive' ,'NAN'])\n",
    "# Overiding the x axis with the country names\n",
    "plt.xticks([i + 0.25 for i in range(1,13)], X)\n",
    "# Giving the tilte for the plot\n",
    "plt.title(\"Tox21 dataset diagram\")\n",
    "# Namimg the x and y axis\n",
    "plt.xlabel('Tox21_tasks')\n",
    "plt.ylabel('Cases')\n",
    "# Saving the plot as a 'png'\n",
    "plt.savefig('4BarPlot.png')\n",
    "# Displaying the bar plot\n",
    "plt.show()"
   ]
  },
  {
   "cell_type": "markdown",
   "metadata": {
    "heading_collapsed": true,
    "id": "6grIE_JeqkUZ"
   },
   "source": [
    "# Required functions"
   ]
  },
  {
   "cell_type": "code",
   "execution_count": 10,
   "metadata": {
    "hidden": true,
    "id": "m9K0ArLh6BC1"
   },
   "outputs": [],
   "source": [
    "def create_dataset_with_gcn(ds, class_embed_vector, GCN, tasks):\n",
    "\n",
    "    created_data = []\n",
    "    data = np.arange(len(tasks))\n",
    "    onehot_encoded = to_categorical(data)\n",
    "    for numberTask, dataset in enumerate(ds):\n",
    "        for i, data in enumerate(dataset):\n",
    "            smile, g, label, mask = data\n",
    "            g = g.to(device)\n",
    "            g = dgl.add_self_loop(g)\n",
    "            graph_feats = g.ndata.pop('h')\n",
    "            embbed = GCN(g, graph_feats)\n",
    "            embbed = embbed.to('cpu')\n",
    "            embbed = embbed.detach().numpy()\n",
    "            a = (smiles, embbed, onehot_encoded[numberTask], class_embed_vector[numberTask], label, tasks[numberTask])\n",
    "            created_data.append(a)\n",
    "    print('Data created!!')\n",
    "    return created_data \n",
    "\n",
    "\n",
    "def create_meta_data_gcn(GCN, dataset, class_embed_vector, train_task_size, tasks):\n",
    "    \n",
    "    train_data= []\n",
    "    valid_data = []\n",
    "    data = np.arange(len(tasks))\n",
    "    onehot_encoded = to_categorical(data)\n",
    "    \n",
    "    for numberTask , datas in enumerate(dataset):\n",
    "        \n",
    "        for j, data in enumerate(datas):\n",
    "            \n",
    "            smiles, g, label, mask = data\n",
    "            \n",
    "            g = g.to(device)\n",
    "            g = dgl.add_self_loop(g)\n",
    "            graph_feats = g.ndata.pop('h')\n",
    "            embbed = GCN(g, graph_feats)\n",
    "            embbed = embbed.to('cpu')\n",
    "            embbed = embbed.detach().numpy()\n",
    "            a = (smiles, embbed, onehot_encoded[numberTask], class_embed_vector[numberTask], label[0], tasks[numberTask])\n",
    "\n",
    "            \n",
    "            if numberTask < train_task_size :\n",
    "                train_data.append(a)\n",
    "            else:\n",
    "                valid_data.append(a)\n",
    "\n",
    "    print('Data created!!')            \n",
    "    return train_data, valid_data "
   ]
  },
  {
   "cell_type": "markdown",
   "metadata": {
    "heading_collapsed": true
   },
   "source": [
    "# Calculation of embedded vectors for each class "
   ]
  },
  {
   "cell_type": "code",
   "execution_count": 11,
   "metadata": {
    "hidden": true
   },
   "outputs": [
    {
     "name": "stdout",
     "output_type": "stream",
     "text": [
      "NR-AR=> positive: 309 - negative: 6956\n",
      "NR-AR-LBD=> positive: 237 - negative: 6521\n",
      "NR-AhR=> positive: 768 - negative: 5781\n",
      "NR-Aromatase=> positive: 300 - negative: 5521\n",
      "NR-ER=> positive: 793 - negative: 5400\n",
      "NR-ER-LBD=> positive: 350 - negative: 6605\n",
      "NR-PPAR-gamma=> positive: 186 - negative: 6264\n",
      "SR-ARE=> positive: 942 - negative: 4890\n",
      "SR-ATAD5=> positive: 264 - negative: 6808\n",
      "SR-HSE=> positive: 372 - negative: 6095\n",
      "SR-MMP=> positive: 918 - negative: 4892\n",
      "SR-p53=> positive: 423 - negative: 6351\n"
     ]
    }
   ],
   "source": [
    "df_positive, df_negative = separate_active_and_inactive_data (df, tox21_tasks)\n",
    "\n",
    "for i,d in enumerate(zip(df_positive,df_negative)):\n",
    "    print(f'{tox21_tasks[i]}=> positive: {len(d[0])} - negative: {len(d[1])}')"
   ]
  },
  {
   "cell_type": "code",
   "execution_count": 12,
   "metadata": {
    "hidden": true,
    "scrolled": true
   },
   "outputs": [
    {
     "name": "stdout",
     "output_type": "stream",
     "text": [
      "Processing dgl graphs from scratch...\n",
      "Processing dgl graphs from scratch...\n",
      "Processing dgl graphs from scratch...\n",
      "Processing dgl graphs from scratch...\n",
      "Processing dgl graphs from scratch...\n",
      "Processing dgl graphs from scratch...\n",
      "Processing dgl graphs from scratch...\n",
      "Processing dgl graphs from scratch...\n",
      "Processing dgl graphs from scratch...\n",
      "Processing dgl graphs from scratch...\n",
      "Processing dgl graphs from scratch...\n",
      "Processing dgl graphs from scratch...\n",
      "Processing dgl graphs from scratch...\n",
      "Processing molecule 1000/6956\n",
      "Processing molecule 2000/6956\n",
      "Processing molecule 3000/6956\n",
      "Processing molecule 4000/6956\n",
      "Processing molecule 5000/6956\n",
      "Processing molecule 6000/6956\n",
      "Processing dgl graphs from scratch...\n",
      "Processing molecule 1000/6521\n",
      "Processing molecule 2000/6521\n",
      "Processing molecule 3000/6521\n",
      "Processing molecule 4000/6521\n",
      "Processing molecule 5000/6521\n",
      "Processing molecule 6000/6521\n",
      "Processing dgl graphs from scratch...\n",
      "Processing molecule 1000/5781\n",
      "Processing molecule 2000/5781\n",
      "Processing molecule 3000/5781\n",
      "Processing molecule 4000/5781\n",
      "Processing molecule 5000/5781\n",
      "Processing dgl graphs from scratch...\n",
      "Processing molecule 1000/5521\n",
      "Processing molecule 2000/5521\n",
      "Processing molecule 3000/5521\n",
      "Processing molecule 4000/5521\n",
      "Processing molecule 5000/5521\n",
      "Processing dgl graphs from scratch...\n",
      "Processing molecule 1000/5400\n",
      "Processing molecule 2000/5400\n",
      "Processing molecule 3000/5400\n",
      "Processing molecule 4000/5400\n",
      "Processing molecule 5000/5400\n",
      "Processing dgl graphs from scratch...\n",
      "Processing molecule 1000/6605\n",
      "Processing molecule 2000/6605\n",
      "Processing molecule 3000/6605\n",
      "Processing molecule 4000/6605\n",
      "Processing molecule 5000/6605\n",
      "Processing molecule 6000/6605\n",
      "Processing dgl graphs from scratch...\n",
      "Processing molecule 1000/6264\n",
      "Processing molecule 2000/6264\n",
      "Processing molecule 3000/6264\n",
      "Processing molecule 4000/6264\n",
      "Processing molecule 5000/6264\n",
      "Processing molecule 6000/6264\n",
      "Processing dgl graphs from scratch...\n",
      "Processing molecule 1000/4890\n",
      "Processing molecule 2000/4890\n",
      "Processing molecule 3000/4890\n",
      "Processing molecule 4000/4890\n",
      "Processing dgl graphs from scratch...\n",
      "Processing molecule 1000/6808\n",
      "Processing molecule 2000/6808\n",
      "Processing molecule 3000/6808\n",
      "Processing molecule 4000/6808\n",
      "Processing molecule 5000/6808\n",
      "Processing molecule 6000/6808\n",
      "Processing dgl graphs from scratch...\n",
      "Processing molecule 1000/6095\n",
      "Processing molecule 2000/6095\n",
      "Processing molecule 3000/6095\n",
      "Processing molecule 4000/6095\n",
      "Processing molecule 5000/6095\n",
      "Processing molecule 6000/6095\n",
      "Processing dgl graphs from scratch...\n",
      "Processing molecule 1000/4892\n",
      "Processing molecule 2000/4892\n",
      "Processing molecule 3000/4892\n",
      "Processing molecule 4000/4892\n",
      "Processing dgl graphs from scratch...\n",
      "Processing molecule 1000/6351\n",
      "Processing molecule 2000/6351\n",
      "Processing molecule 3000/6351\n",
      "Processing molecule 4000/6351\n",
      "Processing molecule 5000/6351\n",
      "Processing molecule 6000/6351\n"
     ]
    }
   ],
   "source": [
    "dataset_positive = [DATASET(d, smiles_to_bigraph, AttentiveFPAtomFeaturizer(), cache_file_path = cache_path) for d in df_positive]\n",
    "dataset_negative = [DATASET(d, smiles_to_bigraph, AttentiveFPAtomFeaturizer(), cache_file_path = cache_path) for d in df_negative]"
   ]
  },
  {
   "cell_type": "code",
   "execution_count": 13,
   "metadata": {
    "hidden": true
   },
   "outputs": [
    {
     "name": "stdout",
     "output_type": "stream",
     "text": [
      "class vector created!!\n"
     ]
    }
   ],
   "source": [
    "embed_class_tox21 = get_embedding_vector_class(dataset_positive, dataset_negative, radius=2, size = 512)"
   ]
  },
  {
   "cell_type": "markdown",
   "metadata": {
    "id": "DQuTm_lmlOOM"
   },
   "source": [
    "# Meta-Learning with BioAct-Het and AttentiveFP GCN "
   ]
  },
  {
   "cell_type": "markdown",
   "metadata": {
    "heading_collapsed": true,
    "id": "LIx0yuwm6D42"
   },
   "source": [
    "### Siamea model"
   ]
  },
  {
   "cell_type": "code",
   "execution_count": 14,
   "metadata": {
    "hidden": true
   },
   "outputs": [
    {
     "name": "stdout",
     "output_type": "stream",
     "text": [
      "Downloading GCN_attentivefp_Tox21_pre_trained.pth from https://data.dgl.ai/dgllife/pre_trained/gcn_attentivefp_tox21.pth...\n"
     ]
    },
    {
     "name": "stderr",
     "output_type": "stream",
     "text": [
      "GCN_attentivefp_Tox21_pre_trained.pth: 100%|██████████| 1.95M/1.95M [00:00<00:00, 8.69MB/s]"
     ]
    },
    {
     "name": "stdout",
     "output_type": "stream",
     "text": [
      "Pretrained model loaded\n"
     ]
    },
    {
     "name": "stderr",
     "output_type": "stream",
     "text": [
      "\n"
     ]
    }
   ],
   "source": [
    "#  Attentive FP GCN\n",
    "model_name = 'GCN_attentivefp_Tox21'\n",
    "gcn_model = get_tox21_model(model_name)\n",
    "gcn_model.eval()\n",
    "gcn_model = gcn_model.to(device)"
   ]
  },
  {
   "cell_type": "code",
   "execution_count": 15,
   "metadata": {
    "collapsed": true,
    "hidden": true
   },
   "outputs": [
    {
     "name": "stdout",
     "output_type": "stream",
     "text": [
      "Processing dgl graphs from scratch...\n",
      "Processing molecule 1000/7265\n",
      "Processing molecule 2000/7265\n",
      "Processing molecule 3000/7265\n",
      "Processing molecule 4000/7265\n",
      "Processing molecule 5000/7265\n",
      "Processing molecule 6000/7265\n",
      "Processing molecule 7000/7265\n",
      "Processing dgl graphs from scratch...\n",
      "Processing molecule 1000/6758\n",
      "Processing molecule 2000/6758\n",
      "Processing molecule 3000/6758\n",
      "Processing molecule 4000/6758\n",
      "Processing molecule 5000/6758\n",
      "Processing molecule 6000/6758\n",
      "Processing dgl graphs from scratch...\n",
      "Processing molecule 1000/6549\n",
      "Processing molecule 2000/6549\n",
      "Processing molecule 3000/6549\n",
      "Processing molecule 4000/6549\n",
      "Processing molecule 5000/6549\n",
      "Processing molecule 6000/6549\n",
      "Processing dgl graphs from scratch...\n",
      "Processing molecule 1000/5821\n",
      "Processing molecule 2000/5821\n",
      "Processing molecule 3000/5821\n",
      "Processing molecule 4000/5821\n",
      "Processing molecule 5000/5821\n",
      "Processing dgl graphs from scratch...\n",
      "Processing molecule 1000/6193\n",
      "Processing molecule 2000/6193\n",
      "Processing molecule 3000/6193\n",
      "Processing molecule 4000/6193\n",
      "Processing molecule 5000/6193\n",
      "Processing molecule 6000/6193\n",
      "Processing dgl graphs from scratch...\n",
      "Processing molecule 1000/6955\n",
      "Processing molecule 2000/6955\n",
      "Processing molecule 3000/6955\n",
      "Processing molecule 4000/6955\n",
      "Processing molecule 5000/6955\n",
      "Processing molecule 6000/6955\n",
      "Processing dgl graphs from scratch...\n",
      "Processing molecule 1000/6450\n",
      "Processing molecule 2000/6450\n",
      "Processing molecule 3000/6450\n",
      "Processing molecule 4000/6450\n",
      "Processing molecule 5000/6450\n",
      "Processing molecule 6000/6450\n",
      "Processing dgl graphs from scratch...\n",
      "Processing molecule 1000/5832\n",
      "Processing molecule 2000/5832\n",
      "Processing molecule 3000/5832\n",
      "Processing molecule 4000/5832\n",
      "Processing molecule 5000/5832\n",
      "Processing dgl graphs from scratch...\n",
      "Processing molecule 1000/7072\n",
      "Processing molecule 2000/7072\n",
      "Processing molecule 3000/7072\n",
      "Processing molecule 4000/7072\n",
      "Processing molecule 5000/7072\n",
      "Processing molecule 6000/7072\n",
      "Processing molecule 7000/7072\n",
      "Processing dgl graphs from scratch...\n",
      "Processing molecule 1000/6467\n",
      "Processing molecule 2000/6467\n",
      "Processing molecule 3000/6467\n",
      "Processing molecule 4000/6467\n",
      "Processing molecule 5000/6467\n",
      "Processing molecule 6000/6467\n",
      "Processing dgl graphs from scratch...\n",
      "Processing molecule 1000/5810\n",
      "Processing molecule 2000/5810\n",
      "Processing molecule 3000/5810\n",
      "Processing molecule 4000/5810\n",
      "Processing molecule 5000/5810\n",
      "Processing dgl graphs from scratch...\n",
      "Processing molecule 1000/6774\n",
      "Processing molecule 2000/6774\n",
      "Processing molecule 3000/6774\n",
      "Processing molecule 4000/6774\n",
      "Processing molecule 5000/6774\n",
      "Processing molecule 6000/6774\n"
     ]
    }
   ],
   "source": [
    "data_ds = []\n",
    "for i, task in  enumerate(tox21_tasks):\n",
    "    a = df[['smiles' , task]]\n",
    "    a = a.dropna()\n",
    "    ds = DATASET(a, smiles_to_bigraph, AttentiveFPAtomFeaturizer(), cache_file_path = cache_path)\n",
    "    data_ds.append(ds)"
   ]
  },
  {
   "cell_type": "code",
   "execution_count": 16,
   "metadata": {
    "colab": {
     "base_uri": "https://localhost:8080/"
    },
    "hidden": true,
    "id": "HGiScGzpzl0h",
    "outputId": "3e682170-5ae9-4a77-c38f-39a61968107b"
   },
   "outputs": [
    {
     "name": "stdout",
     "output_type": "stream",
     "text": [
      "Data created!!\n"
     ]
    }
   ],
   "source": [
    "train_dataset, valid_dataset = create_meta_data_gcn (gcn_model, data_ds, embed_class_tox21, 9, tox21_tasks)"
   ]
  },
  {
   "cell_type": "code",
   "execution_count": 17,
   "metadata": {
    "colab": {
     "base_uri": "https://localhost:8080/"
    },
    "hidden": true,
    "id": "hn2k_msYf9Rl",
    "outputId": "095e992a-3e82-4eb6-9b57-4ddcf083b2b2",
    "run_control": {
     "marked": false
    }
   },
   "outputs": [
    {
     "name": "stdout",
     "output_type": "stream",
     "text": [
      "58895-19051\n"
     ]
    }
   ],
   "source": [
    "print(f'{len(train_dataset)}-{len(valid_dataset)}')"
   ]
  },
  {
   "cell_type": "code",
   "execution_count": 22,
   "metadata": {
    "colab": {
     "base_uri": "https://localhost:8080/"
    },
    "hidden": true,
    "id": "Cuw4bJZZgOoW",
    "outputId": "324218d4-9155-4a08-a4e4-5208e2cfdf9c"
   },
   "outputs": [
    {
     "ename": "ValueError",
     "evalue": "The truth value of an array with more than one element is ambiguous. Use a.any() or a.all()",
     "output_type": "error",
     "traceback": [
      "\u001b[1;31m---------------------------------------------------------------------------\u001b[0m",
      "\u001b[1;31mValueError\u001b[0m                                Traceback (most recent call last)",
      "Cell \u001b[1;32mIn[22], line 1\u001b[0m\n\u001b[1;32m----> 1\u001b[0m label_pos , label_neg, _ , _  \u001b[38;5;241m=\u001b[39m count_lablel(train_dataset)\n\u001b[0;32m      2\u001b[0m \u001b[38;5;28mprint\u001b[39m(\u001b[38;5;124mf\u001b[39m\u001b[38;5;124m'\u001b[39m\u001b[38;5;124mtrain positive label: \u001b[39m\u001b[38;5;132;01m{\u001b[39;00mlabel_pos\u001b[38;5;132;01m}\u001b[39;00m\u001b[38;5;124m - train negative label: \u001b[39m\u001b[38;5;132;01m{\u001b[39;00mlabel_neg\u001b[38;5;132;01m}\u001b[39;00m\u001b[38;5;124m'\u001b[39m)\n\u001b[0;32m      4\u001b[0m label_pos , label_neg, _ , _ \u001b[38;5;241m=\u001b[39m count_lablel(valid_dataset)\n",
      "File \u001b[1;32md:\\Lab_Main\\Sem_6\\DL\\DLpack\\utils\\general.py:125\u001b[0m, in \u001b[0;36mcount_lablel\u001b[1;34m(dataset)\u001b[0m\n\u001b[0;32m    123\u001b[0m \u001b[38;5;28;01mfor\u001b[39;00m i, data \u001b[38;5;129;01min\u001b[39;00m \u001b[38;5;28menumerate\u001b[39m(dataset):\n\u001b[0;32m    124\u001b[0m     smiles, embbed_drug, embbed_task, lbl, task_number, task_name\u001b[38;5;241m=\u001b[39m data\n\u001b[1;32m--> 125\u001b[0m     \u001b[38;5;28;01mif\u001b[39;00m lbl \u001b[38;5;241m==\u001b[39m \u001b[38;5;241m1.\u001b[39m:\n\u001b[0;32m    126\u001b[0m         label_pos \u001b[38;5;241m+\u001b[39m\u001b[38;5;241m=\u001b[39m \u001b[38;5;241m1\u001b[39m\n\u001b[0;32m    127\u001b[0m         data_pos\u001b[38;5;241m.\u001b[39mappend(data)\n",
      "\u001b[1;31mValueError\u001b[0m: The truth value of an array with more than one element is ambiguous. Use a.any() or a.all()"
     ]
    }
   ],
   "source": [
    "label_pos , label_neg, _ , _  = count_lablel(train_dataset)\n",
    "print(f'train positive label: {label_pos} - train negative label: {label_neg}')\n",
    "\n",
    "label_pos , label_neg, _ , _ = count_lablel(valid_dataset)\n",
    "print(f'Test positive label: {label_pos} - Test negative label: {label_neg}')"
   ]
  },
  {
   "cell_type": "code",
   "execution_count": 26,
   "metadata": {
    "colab": {
     "base_uri": "https://localhost:8080/",
     "height": 1000
    },
    "hidden": true,
    "id": "fznYoXwWcM9O",
    "outputId": "f08e2441-45bd-4803-b4c6-e91c901d41bd"
   },
   "outputs": [
    {
     "data": {
      "image/png": "[encoded data removed]",
      "text/plain": [
       "<IPython.core.display.Image object>"
      ]
     },
     "execution_count": 26,
     "metadata": {},
     "output_type": "execute_result"
    }
   ],
   "source": [
    "siamese_net = siamese_model_attentiveFp_tox21()\n",
    "\n",
    "plot_model(siamese_net, show_shapes=True, show_layer_names=True)"
   ]
  },
  {
   "cell_type": "markdown",
   "metadata": {
    "heading_collapsed": true,
    "id": "ZUo6iyu_Hwk4"
   },
   "source": [
    "### Training algorithm"
   ]
  },
  {
   "cell_type": "code",
   "execution_count": 27,
   "metadata": {
    "colab": {
     "background_save": true,
     "base_uri": "https://localhost:8080/"
    },
    "hidden": true,
    "id": "UvKopfaM1yAP",
    "outputId": "b05614c9-0f35-49c8-f53a-142198d775db",
    "scrolled": true
   },
   "outputs": [
    {
     "name": "stdout",
     "output_type": "stream",
     "text": [
      "Epoch 1/15\n",
      "461/461 [==============================] - 2s 5ms/step - loss: 0.2381 - accuracy: 0.9274 - mae: 0.1303 - mse: 0.0626 - auc_2: 0.7583\n",
      "Epoch 2/15\n",
      "461/461 [==============================] - 2s 5ms/step - loss: 0.2111 - accuracy: 0.9295 - mae: 0.1163 - mse: 0.0564 - auc_2: 0.8096\n",
      "Epoch 3/15\n",
      "461/461 [==============================] - 2s 5ms/step - loss: 0.2033 - accuracy: 0.9297 - mae: 0.1128 - mse: 0.0549 - auc_2: 0.8254\n",
      "Epoch 4/15\n",
      "461/461 [==============================] - 2s 5ms/step - loss: 0.2002 - accuracy: 0.9302 - mae: 0.1107 - mse: 0.0542 - auc_2: 0.8302\n",
      "Epoch 5/15\n",
      "461/461 [==============================] - 2s 5ms/step - loss: 0.1960 - accuracy: 0.9326 - mae: 0.1078 - mse: 0.0530 - auc_2: 0.8366\n",
      "Epoch 6/15\n",
      "461/461 [==============================] - 2s 5ms/step - loss: 0.1937 - accuracy: 0.9335 - mae: 0.1066 - mse: 0.0526 - auc_2: 0.8413\n",
      "Epoch 7/15\n",
      "461/461 [==============================] - 2s 5ms/step - loss: 0.1907 - accuracy: 0.9342 - mae: 0.1049 - mse: 0.0518 - auc_2: 0.8480\n",
      "Epoch 8/15\n",
      "461/461 [==============================] - 2s 5ms/step - loss: 0.1894 - accuracy: 0.9344 - mae: 0.1039 - mse: 0.0514 - auc_2: 0.8503\n",
      "Epoch 9/15\n",
      "461/461 [==============================] - 2s 5ms/step - loss: 0.1888 - accuracy: 0.9339 - mae: 0.1043 - mse: 0.0516 - auc_2: 0.8531\n",
      "Epoch 10/15\n",
      "461/461 [==============================] - 2s 5ms/step - loss: 0.1862 - accuracy: 0.9359 - mae: 0.1028 - mse: 0.0506 - auc_2: 0.8554\n",
      "Epoch 11/15\n",
      "461/461 [==============================] - 2s 5ms/step - loss: 0.1866 - accuracy: 0.9351 - mae: 0.1023 - mse: 0.0508 - auc_2: 0.8562\n",
      "Epoch 12/15\n",
      "461/461 [==============================] - 2s 5ms/step - loss: 0.1843 - accuracy: 0.9364 - mae: 0.1015 - mse: 0.0503 - auc_2: 0.8612\n",
      "Epoch 13/15\n",
      "461/461 [==============================] - 2s 5ms/step - loss: 0.1826 - accuracy: 0.9368 - mae: 0.1006 - mse: 0.0497 - auc_2: 0.8625\n",
      "Epoch 14/15\n",
      "461/461 [==============================] - 2s 5ms/step - loss: 0.1815 - accuracy: 0.9371 - mae: 0.0991 - mse: 0.0495 - auc_2: 0.8645\n",
      "Epoch 15/15\n",
      "461/461 [==============================] - 2s 5ms/step - loss: 0.1802 - accuracy: 0.9384 - mae: 0.0983 - mse: 0.0489 - auc_2: 0.8650\n",
      "93\n",
      "93\n",
      "93\n",
      "93\n",
      "93\n",
      "93\n",
      "93\n",
      "93\n",
      "93\n",
      "93\n",
      "93\n",
      "92\n",
      "92\n",
      "92\n",
      "Epoch 1/15\n",
      "461/461 [==============================] - 2s 5ms/step - loss: 0.1794 - accuracy: 0.9387 - mae: 0.0980 - mse: 0.0486 - auc_2: 0.8654\n",
      "Epoch 2/15\n",
      "461/461 [==============================] - 2s 5ms/step - loss: 0.1794 - accuracy: 0.9385 - mae: 0.0977 - mse: 0.0487 - auc_2: 0.8666\n",
      "Epoch 3/15\n",
      "461/461 [==============================] - 2s 5ms/step - loss: 0.1775 - accuracy: 0.9386 - mae: 0.0975 - mse: 0.0484 - auc_2: 0.8703\n",
      "Epoch 4/15\n",
      "461/461 [==============================] - 2s 5ms/step - loss: 0.1773 - accuracy: 0.9394 - mae: 0.0973 - mse: 0.0483 - auc_2: 0.8704\n",
      "Epoch 5/15\n",
      "461/461 [==============================] - 2s 5ms/step - loss: 0.1748 - accuracy: 0.9393 - mae: 0.0961 - mse: 0.0478 - auc_2: 0.8759\n",
      "Epoch 6/15\n",
      "461/461 [==============================] - 2s 5ms/step - loss: 0.1745 - accuracy: 0.9387 - mae: 0.0953 - mse: 0.0477 - auc_2: 0.8766\n",
      "Epoch 7/15\n",
      "461/461 [==============================] - 2s 5ms/step - loss: 0.1745 - accuracy: 0.9392 - mae: 0.0956 - mse: 0.0477 - auc_2: 0.8770\n",
      "Epoch 8/15\n",
      "461/461 [==============================] - 2s 5ms/step - loss: 0.1726 - accuracy: 0.9407 - mae: 0.0940 - mse: 0.0470 - auc_2: 0.8798\n",
      "Epoch 9/15\n",
      "461/461 [==============================] - 2s 5ms/step - loss: 0.1728 - accuracy: 0.9403 - mae: 0.0946 - mse: 0.0472 - auc_2: 0.8795\n",
      "Epoch 10/15\n",
      "461/461 [==============================] - 2s 5ms/step - loss: 0.1709 - accuracy: 0.9412 - mae: 0.0943 - mse: 0.0466 - auc_2: 0.8825\n",
      "Epoch 11/15\n",
      "461/461 [==============================] - 2s 5ms/step - loss: 0.1704 - accuracy: 0.9408 - mae: 0.0927 - mse: 0.0465 - auc_2: 0.8834\n",
      "Epoch 12/15\n",
      "461/461 [==============================] - 2s 5ms/step - loss: 0.1691 - accuracy: 0.9415 - mae: 0.0925 - mse: 0.0462 - auc_2: 0.8845\n",
      "Epoch 13/15\n",
      "461/461 [==============================] - 2s 5ms/step - loss: 0.1684 - accuracy: 0.9418 - mae: 0.0923 - mse: 0.0459 - auc_2: 0.8865\n",
      "Epoch 14/15\n",
      "461/461 [==============================] - 2s 5ms/step - loss: 0.1678 - accuracy: 0.9414 - mae: 0.0922 - mse: 0.0459 - auc_2: 0.8872\n",
      "Epoch 15/15\n",
      "461/461 [==============================] - 2s 5ms/step - loss: 0.1675 - accuracy: 0.9417 - mae: 0.0914 - mse: 0.0458 - auc_2: 0.8885\n",
      "94\n",
      "94\n",
      "94\n",
      "94\n",
      "94\n",
      "94\n",
      "94\n",
      "93\n",
      "93\n",
      "93\n",
      "93\n",
      "93\n",
      "93\n",
      "93\n",
      "Epoch 1/15\n",
      "461/461 [==============================] - 2s 5ms/step - loss: 0.1661 - accuracy: 0.9407 - mae: 0.0916 - mse: 0.0457 - auc_2: 0.8920\n",
      "Epoch 2/15\n",
      "461/461 [==============================] - 2s 5ms/step - loss: 0.1670 - accuracy: 0.9415 - mae: 0.0913 - mse: 0.0456 - auc_2: 0.8887\n",
      "Epoch 3/15\n",
      "461/461 [==============================] - 2s 5ms/step - loss: 0.1636 - accuracy: 0.9422 - mae: 0.0896 - mse: 0.0447 - auc_2: 0.8936\n",
      "Epoch 4/15\n",
      "461/461 [==============================] - 2s 5ms/step - loss: 0.1641 - accuracy: 0.9424 - mae: 0.0898 - mse: 0.0449 - auc_2: 0.8944\n",
      "Epoch 5/15\n",
      "461/461 [==============================] - 2s 5ms/step - loss: 0.1613 - accuracy: 0.9435 - mae: 0.0893 - mse: 0.0442 - auc_2: 0.8982\n",
      "Epoch 6/15\n",
      "461/461 [==============================] - 2s 5ms/step - loss: 0.1621 - accuracy: 0.9431 - mae: 0.0888 - mse: 0.0446 - auc_2: 0.8981\n",
      "Epoch 7/15\n",
      "461/461 [==============================] - 2s 5ms/step - loss: 0.1608 - accuracy: 0.9434 - mae: 0.0881 - mse: 0.0441 - auc_2: 0.8991\n",
      "Epoch 8/15\n",
      "461/461 [==============================] - 2s 5ms/step - loss: 0.1609 - accuracy: 0.9438 - mae: 0.0888 - mse: 0.0440 - auc_2: 0.8982\n",
      "Epoch 9/15\n",
      "461/461 [==============================] - 2s 5ms/step - loss: 0.1596 - accuracy: 0.9448 - mae: 0.0873 - mse: 0.0437 - auc_2: 0.9010\n",
      "Epoch 10/15\n",
      "461/461 [==============================] - 2s 5ms/step - loss: 0.1602 - accuracy: 0.9434 - mae: 0.0890 - mse: 0.0440 - auc_2: 0.9011\n",
      "Epoch 11/15\n",
      "461/461 [==============================] - 2s 5ms/step - loss: 0.1585 - accuracy: 0.9447 - mae: 0.0866 - mse: 0.0434 - auc_2: 0.9012\n",
      "Epoch 12/15\n",
      "461/461 [==============================] - 2s 5ms/step - loss: 0.1571 - accuracy: 0.9455 - mae: 0.0861 - mse: 0.0431 - auc_2: 0.9037\n",
      "Epoch 13/15\n",
      "461/461 [==============================] - 2s 5ms/step - loss: 0.1558 - accuracy: 0.9453 - mae: 0.0859 - mse: 0.0427 - auc_2: 0.9054\n",
      "Epoch 14/15\n",
      "461/461 [==============================] - 2s 5ms/step - loss: 0.1565 - accuracy: 0.9449 - mae: 0.0864 - mse: 0.0430 - auc_2: 0.9053\n",
      "Epoch 15/15\n",
      "461/461 [==============================] - 2s 5ms/step - loss: 0.1537 - accuracy: 0.9457 - mae: 0.0845 - mse: 0.0423 - auc_2: 0.9092\n",
      "94\n",
      "94\n",
      "94\n",
      "94\n",
      "94\n",
      "94\n",
      "94\n",
      "94\n",
      "94\n",
      "94\n",
      "94\n",
      "94\n",
      "94\n",
      "94\n",
      "3\n"
     ]
    }
   ],
   "source": [
    "# models = [siamese_net for task in sider_tasks_final]\n",
    "Epoch_S = 15\n",
    "l = []\n",
    "r = []\n",
    "lbls = []\n",
    "for i , data in enumerate(train_dataset):\n",
    "    smile, embbed_drug, onehot_task, embbed_task, lbl, task_name = data\n",
    "    l.append(embbed_drug[0])\n",
    "    r.append(embbed_task)\n",
    "    lbls.append(lbl.tolist())\n",
    "\n",
    "l = np.array(l).reshape(-1,512,1)\n",
    "r = np.array(r).reshape(-1,512,1)\n",
    "lbls=np.array(lbls)\n",
    "\n",
    "history = History()\n",
    "\n",
    "P = siamese_net.fit([l, r], lbls, epochs = Epoch_S, shuffle=True, batch_size=128, callbacks=[history])\n",
    "\n",
    "for j in range(1000):\n",
    "    C=1\n",
    "    Before = int(P.history['accuracy'][-1]*100)\n",
    "    for i in range(2,Epoch_S+1):\n",
    "        if  int(P.history['accuracy'][-i]*100)== Before:\n",
    "            C=C+1\n",
    "        else:\n",
    "            C=1\n",
    "        Before=int(P.history['accuracy'][-i]*100)\n",
    "        print(Before)\n",
    "    if C==Epoch_S:\n",
    "        break\n",
    "    P = siamese_net.fit([l, r], lbls, epochs = Epoch_S, shuffle=True, batch_size=128, callbacks=history)\n",
    "print(j+1)\n"
   ]
  },
  {
   "cell_type": "markdown",
   "metadata": {
    "heading_collapsed": true,
    "id": "2c_4DEdVIBw4"
   },
   "source": [
    "### Model evaluation"
   ]
  },
  {
   "cell_type": "code",
   "execution_count": 28,
   "metadata": {
    "colab": {
     "background_save": true
    },
    "hidden": true,
    "id": "b-WGsaHvlL8Q"
   },
   "outputs": [],
   "source": [
    "valid_ds = {}\n",
    "\n",
    "for i, task in enumerate(tox21_tasks_test):\n",
    "    temp = []\n",
    "    for j , data in enumerate(valid_dataset):\n",
    "        smiles, embbed_drug, onehot_task, embbed_task, lbl, task_name = data\n",
    "        if task ==  task_name:\n",
    "            temp.append(data)\n",
    "    \n",
    "    valid_ds[task] = temp\n"
   ]
  },
  {
   "cell_type": "code",
   "execution_count": 30,
   "metadata": {
    "hidden": true
   },
   "outputs": [
    {
     "name": "stdout",
     "output_type": "stream",
     "text": [
      "SR-HSE : \n",
      "203/203 [==============================] - 0s 680us/step - loss: 0.1902 - accuracy: 0.9436 - mae: 0.1187 - mse: 0.0497 - auc_2: 0.8065\n",
      "SR-MMP : \n",
      "182/182 [==============================] - 0s 638us/step - loss: 0.3174 - accuracy: 0.8551 - mae: 0.1819 - mse: 0.0990 - auc_2: 0.8642\n",
      "SR-p53 : \n",
      "212/212 [==============================] - 0s 637us/step - loss: 0.1848 - accuracy: 0.9401 - mae: 0.1171 - mse: 0.0503 - auc_2: 0.8498\n"
     ]
    }
   ],
   "source": [
    "task_scores = [tox21_tasks_test for tox21_tasks_test in range(len(tox21_tasks_test))]\n",
    "\n",
    "for i, task in enumerate(tox21_tasks_test):\n",
    "    print(task,\": \")\n",
    "\n",
    "    y_test = []\n",
    "    l_val = []\n",
    "    r_val = []\n",
    "    lbls_valid = []\n",
    "    for data in valid_ds[task]:\n",
    "       \n",
    "        smiles, embbed_drug, onehot_task, embbed_task, lbl, task_name = data\n",
    "        l_val.append(embbed_drug[0])\n",
    "        r_val.append(embbed_task)\n",
    "        lbls_valid.append(lbl)\n",
    "            \n",
    "    l1 = np.asarray(l_val)\n",
    "    r1 = np.asarray(r_val)\n",
    "    lbls_valid = np.asarray(lbls_valid)\n",
    "\n",
    "    score = siamese_net.evaluate([l1,r1],lbls_valid)\n",
    " \n",
    "    result =(score[1], score[4])\n",
    "    task_scores[i] = task,result"
   ]
  },
  {
   "cell_type": "markdown",
   "metadata": {
    "id": "LB42ZdTCyR-N"
   },
   "source": [
    "# Meta-Learning with BioAct-Het and Canonical GCN"
   ]
  },
  {
   "cell_type": "markdown",
   "metadata": {
    "id": "KcaEHmQMcFau"
   },
   "source": [
    "### Siamea model"
   ]
  },
  {
   "cell_type": "code",
   "execution_count": 36,
   "metadata": {},
   "outputs": [
    {
     "name": "stdout",
     "output_type": "stream",
     "text": [
      "Downloading GCN_canonical_Tox21_pre_trained.pth from https://data.dgl.ai/dgllife/pre_trained/gcn_canonical_tox21.pth...\n",
      "Pretrained model loaded\n"
     ]
    }
   ],
   "source": [
    "model_GCN = 'GCN_canonical_Tox21'\n",
    "gcn_model = get_tox21_model(model_GCN)\n",
    "gcn_model.eval()\n",
    "gcn_model = gcn_model.to(device)"
   ]
  },
  {
   "cell_type": "code",
   "execution_count": 37,
   "metadata": {
    "scrolled": true
   },
   "outputs": [
    {
     "name": "stdout",
     "output_type": "stream",
     "text": [
      "Processing dgl graphs from scratch...\n",
      "Processing molecule 1000/7265\n",
      "Processing molecule 2000/7265\n",
      "Processing molecule 3000/7265\n",
      "Processing molecule 4000/7265\n",
      "Processing molecule 5000/7265\n",
      "Processing molecule 6000/7265\n",
      "Processing molecule 7000/7265\n",
      "Processing dgl graphs from scratch...\n",
      "Processing molecule 1000/6758\n",
      "Processing molecule 2000/6758\n",
      "Processing molecule 3000/6758\n",
      "Processing molecule 4000/6758\n",
      "Processing molecule 5000/6758\n",
      "Processing molecule 6000/6758\n",
      "Processing dgl graphs from scratch...\n",
      "Processing molecule 1000/6549\n",
      "Processing molecule 2000/6549\n",
      "Processing molecule 3000/6549\n",
      "Processing molecule 4000/6549\n",
      "Processing molecule 5000/6549\n",
      "Processing molecule 6000/6549\n",
      "Processing dgl graphs from scratch...\n",
      "Processing molecule 1000/5821\n",
      "Processing molecule 2000/5821\n",
      "Processing molecule 3000/5821\n",
      "Processing molecule 4000/5821\n",
      "Processing molecule 5000/5821\n",
      "Processing dgl graphs from scratch...\n",
      "Processing molecule 1000/6193\n",
      "Processing molecule 2000/6193\n",
      "Processing molecule 3000/6193\n",
      "Processing molecule 4000/6193\n",
      "Processing molecule 5000/6193\n",
      "Processing molecule 6000/6193\n",
      "Processing dgl graphs from scratch...\n",
      "Processing molecule 1000/6955\n",
      "Processing molecule 2000/6955\n",
      "Processing molecule 3000/6955\n",
      "Processing molecule 4000/6955\n",
      "Processing molecule 5000/6955\n",
      "Processing molecule 6000/6955\n",
      "Processing dgl graphs from scratch...\n",
      "Processing molecule 1000/6450\n",
      "Processing molecule 2000/6450\n",
      "Processing molecule 3000/6450\n",
      "Processing molecule 4000/6450\n",
      "Processing molecule 5000/6450\n",
      "Processing molecule 6000/6450\n",
      "Processing dgl graphs from scratch...\n",
      "Processing molecule 1000/5832\n",
      "Processing molecule 2000/5832\n",
      "Processing molecule 3000/5832\n",
      "Processing molecule 4000/5832\n",
      "Processing molecule 5000/5832\n",
      "Processing dgl graphs from scratch...\n",
      "Processing molecule 1000/7072\n",
      "Processing molecule 2000/7072\n",
      "Processing molecule 3000/7072\n",
      "Processing molecule 4000/7072\n",
      "Processing molecule 5000/7072\n",
      "Processing molecule 6000/7072\n",
      "Processing molecule 7000/7072\n",
      "Processing dgl graphs from scratch...\n",
      "Processing molecule 1000/6467\n",
      "Processing molecule 2000/6467\n",
      "Processing molecule 3000/6467\n",
      "Processing molecule 4000/6467\n",
      "Processing molecule 5000/6467\n",
      "Processing molecule 6000/6467\n",
      "Processing dgl graphs from scratch...\n",
      "Processing molecule 1000/5810\n",
      "Processing molecule 2000/5810\n",
      "Processing molecule 3000/5810\n",
      "Processing molecule 4000/5810\n",
      "Processing molecule 5000/5810\n",
      "Processing dgl graphs from scratch...\n",
      "Processing molecule 1000/6774\n",
      "Processing molecule 2000/6774\n",
      "Processing molecule 3000/6774\n",
      "Processing molecule 4000/6774\n",
      "Processing molecule 5000/6774\n",
      "Processing molecule 6000/6774\n"
     ]
    }
   ],
   "source": [
    "data_ds = []\n",
    "for i, task in  enumerate(tox21_tasks):\n",
    "    a = df[['smiles' , task]]\n",
    "    a = a.dropna()\n",
    "    ds = DATASET(a, smiles_to_bigraph, CanonicalAtomFeaturizer(), cache_file_path = cache_path)\n",
    "    data_ds.append(ds)"
   ]
  },
  {
   "cell_type": "code",
   "execution_count": 38,
   "metadata": {},
   "outputs": [
    {
     "name": "stdout",
     "output_type": "stream",
     "text": [
      "Data created!!\n"
     ]
    }
   ],
   "source": [
    "train_dataset, valid_dataset = create_meta_data_gcn (gcn_model, data_ds, embed_class_tox21, 9, tox21_tasks)"
   ]
  },
  {
   "cell_type": "code",
   "execution_count": 42,
   "metadata": {},
   "outputs": [
    {
     "name": "stdout",
     "output_type": "stream",
     "text": [
      "train positive label: 4149 - train negative label: 54746\n",
      "Test positive label: 4149 - Test negative label: 54746\n"
     ]
    }
   ],
   "source": [
    "label_pos , label_neg, _ , _ = count_lablel(train_dataset)\n",
    "print(f'train positive label: {label_pos} - train negative label: {label_neg}')\n",
    "\n",
    "label_pos , label_neg, _ , _ = count_lablel(train_dataset)\n",
    "print(f'Test positive label: {label_pos} - Test negative label: {label_neg}')"
   ]
  },
  {
   "cell_type": "code",
   "execution_count": 43,
   "metadata": {
    "colab": {
     "base_uri": "https://localhost:8080/",
     "height": 1000
    },
    "id": "RfwTLe_8yfrd",
    "outputId": "98d8ff33-0045-4ccf-dbd9-72b1dd46a669"
   },
   "outputs": [
    {
     "data": {
      "image/png": "[encoded data removed]",
      "text/plain": [
       "<IPython.core.display.Image object>"
      ]
     },
     "execution_count": 43,
     "metadata": {},
     "output_type": "execute_result"
    }
   ],
   "source": [
    "siamese_net = siamese_model_Canonical_tox21()\n",
    "\n",
    "plot_model(siamese_net, show_shapes=True, show_layer_names=True)"
   ]
  },
  {
   "cell_type": "markdown",
   "metadata": {
    "heading_collapsed": true,
    "id": "Mi2yDJQVy52B"
   },
   "source": [
    "### Training algorithm"
   ]
  },
  {
   "cell_type": "code",
   "execution_count": 44,
   "metadata": {
    "colab": {
     "base_uri": "https://localhost:8080/"
    },
    "hidden": true,
    "id": "UWWKNk60y52B",
    "outputId": "1ef42590-8e6c-4af4-964b-7050fc4c4909"
   },
   "outputs": [
    {
     "name": "stdout",
     "output_type": "stream",
     "text": [
      "Epoch 1/15\n",
      "461/461 [==============================] - 2s 4ms/step - loss: 0.2525 - accuracy: 0.9287 - mae: 0.1362 - mse: 0.0656 - auc_2: 0.7061\n",
      "Epoch 2/15\n",
      "461/461 [==============================] - 2s 4ms/step - loss: 0.2199 - accuracy: 0.9296 - mae: 0.1218 - mse: 0.0590 - auc_2: 0.7873\n",
      "Epoch 3/15\n",
      "461/461 [==============================] - 2s 4ms/step - loss: 0.2125 - accuracy: 0.9297 - mae: 0.1179 - mse: 0.0576 - auc_2: 0.8058\n",
      "Epoch 4/15\n",
      "461/461 [==============================] - 2s 4ms/step - loss: 0.2103 - accuracy: 0.9296 - mae: 0.1158 - mse: 0.0569 - auc_2: 0.8094\n",
      "Epoch 5/15\n",
      "461/461 [==============================] - 2s 4ms/step - loss: 0.2069 - accuracy: 0.9304 - mae: 0.1140 - mse: 0.0561 - auc_2: 0.8160\n",
      "Epoch 6/15\n",
      "461/461 [==============================] - 2s 4ms/step - loss: 0.2049 - accuracy: 0.9310 - mae: 0.1117 - mse: 0.0554 - auc_2: 0.8181\n",
      "Epoch 7/15\n",
      "461/461 [==============================] - 2s 4ms/step - loss: 0.2033 - accuracy: 0.9309 - mae: 0.1110 - mse: 0.0552 - auc_2: 0.8219\n",
      "Epoch 8/15\n",
      "461/461 [==============================] - 2s 4ms/step - loss: 0.2008 - accuracy: 0.9323 - mae: 0.1105 - mse: 0.0545 - auc_2: 0.8275\n",
      "Epoch 9/15\n",
      "461/461 [==============================] - 2s 4ms/step - loss: 0.1993 - accuracy: 0.9328 - mae: 0.1088 - mse: 0.0542 - auc_2: 0.8307\n",
      "Epoch 10/15\n",
      "461/461 [==============================] - 2s 4ms/step - loss: 0.1990 - accuracy: 0.9330 - mae: 0.1090 - mse: 0.0538 - auc_2: 0.8312\n",
      "Epoch 11/15\n",
      "461/461 [==============================] - 2s 4ms/step - loss: 0.1978 - accuracy: 0.9328 - mae: 0.1085 - mse: 0.0537 - auc_2: 0.8332\n",
      "Epoch 12/15\n",
      "461/461 [==============================] - 2s 4ms/step - loss: 0.1972 - accuracy: 0.9332 - mae: 0.1079 - mse: 0.0535 - auc_2: 0.8353\n",
      "Epoch 13/15\n",
      "461/461 [==============================] - 2s 4ms/step - loss: 0.1953 - accuracy: 0.9334 - mae: 0.1072 - mse: 0.0530 - auc_2: 0.8391\n",
      "Epoch 14/15\n",
      "461/461 [==============================] - 2s 4ms/step - loss: 0.1955 - accuracy: 0.9335 - mae: 0.1074 - mse: 0.0530 - auc_2: 0.8383\n",
      "Epoch 15/15\n",
      "461/461 [==============================] - 2s 4ms/step - loss: 0.1948 - accuracy: 0.9338 - mae: 0.1071 - mse: 0.0528 - auc_2: 0.8388\n",
      "93\n",
      "93\n",
      "93\n",
      "93\n",
      "93\n",
      "93\n",
      "93\n",
      "93\n",
      "93\n",
      "93\n",
      "92\n",
      "92\n",
      "92\n",
      "92\n",
      "Epoch 1/15\n",
      "461/461 [==============================] - 2s 4ms/step - loss: 0.1929 - accuracy: 0.9341 - mae: 0.1060 - mse: 0.0527 - auc_2: 0.8444\n",
      "Epoch 2/15\n",
      "461/461 [==============================] - 2s 4ms/step - loss: 0.1922 - accuracy: 0.9341 - mae: 0.1057 - mse: 0.0524 - auc_2: 0.8456\n",
      "Epoch 3/15\n",
      "461/461 [==============================] - 2s 4ms/step - loss: 0.1924 - accuracy: 0.9340 - mae: 0.1056 - mse: 0.0524 - auc_2: 0.8446\n",
      "Epoch 4/15\n",
      "461/461 [==============================] - 2s 4ms/step - loss: 0.1912 - accuracy: 0.9346 - mae: 0.1049 - mse: 0.0519 - auc_2: 0.8462\n",
      "Epoch 5/15\n",
      "461/461 [==============================] - 2s 4ms/step - loss: 0.1891 - accuracy: 0.9352 - mae: 0.1047 - mse: 0.0517 - auc_2: 0.8517\n",
      "Epoch 6/15\n",
      "461/461 [==============================] - 2s 4ms/step - loss: 0.1895 - accuracy: 0.9346 - mae: 0.1041 - mse: 0.0517 - auc_2: 0.8501\n",
      "Epoch 7/15\n",
      "461/461 [==============================] - 2s 4ms/step - loss: 0.1900 - accuracy: 0.9346 - mae: 0.1047 - mse: 0.0518 - auc_2: 0.8488\n",
      "Epoch 8/15\n",
      "461/461 [==============================] - 2s 4ms/step - loss: 0.1898 - accuracy: 0.9350 - mae: 0.1045 - mse: 0.0518 - auc_2: 0.8502\n",
      "Epoch 9/15\n",
      "461/461 [==============================] - 2s 4ms/step - loss: 0.1881 - accuracy: 0.9349 - mae: 0.1032 - mse: 0.0515 - auc_2: 0.8536\n",
      "Epoch 10/15\n",
      "461/461 [==============================] - 2s 4ms/step - loss: 0.1891 - accuracy: 0.9344 - mae: 0.1046 - mse: 0.0518 - auc_2: 0.8515\n",
      "Epoch 11/15\n",
      "461/461 [==============================] - 2s 4ms/step - loss: 0.1877 - accuracy: 0.9352 - mae: 0.1030 - mse: 0.0511 - auc_2: 0.8520\n",
      "Epoch 12/15\n",
      "461/461 [==============================] - 2s 4ms/step - loss: 0.1873 - accuracy: 0.9352 - mae: 0.1035 - mse: 0.0511 - auc_2: 0.8550\n",
      "Epoch 13/15\n",
      "461/461 [==============================] - 2s 4ms/step - loss: 0.1862 - accuracy: 0.9352 - mae: 0.1029 - mse: 0.0509 - auc_2: 0.8574\n",
      "Epoch 14/15\n",
      "461/461 [==============================] - 2s 4ms/step - loss: 0.1872 - accuracy: 0.9349 - mae: 0.1031 - mse: 0.0512 - auc_2: 0.8551\n",
      "Epoch 15/15\n",
      "461/461 [==============================] - 2s 4ms/step - loss: 0.1871 - accuracy: 0.9356 - mae: 0.1033 - mse: 0.0509 - auc_2: 0.8528\n",
      "93\n",
      "93\n",
      "93\n",
      "93\n",
      "93\n",
      "93\n",
      "93\n",
      "93\n",
      "93\n",
      "93\n",
      "93\n",
      "93\n",
      "93\n",
      "93\n",
      "2\n"
     ]
    }
   ],
   "source": [
    "# models = [siamese_net for task in sider_tasks_final]\n",
    "Epoch_S = 15\n",
    "l = []\n",
    "r = []\n",
    "lbls = []\n",
    "for i , data in enumerate(train_dataset):\n",
    "    smile, embbed_drug, onehot_task, embbed_task, lbl, task_name = data\n",
    "    l.append(embbed_drug[0])\n",
    "    r.append(embbed_task)\n",
    "    lbls.append(lbl.tolist())\n",
    "\n",
    "l = np.array(l).reshape(-1,128,1)\n",
    "r = np.array(r).reshape(-1,512,1)\n",
    "lbls=np.array(lbls)\n",
    "\n",
    "history = History()\n",
    "\n",
    "P = siamese_net.fit([l, r], lbls, epochs = Epoch_S, shuffle=True, batch_size=128, callbacks=[history])\n",
    "\n",
    "for j in range(1000):\n",
    "    C=1\n",
    "    Before = int(P.history['accuracy'][-1]*100)\n",
    "    for i in range(2,Epoch_S+1):\n",
    "        if  int(P.history['accuracy'][-i]*100)== Before:\n",
    "            C=C+1\n",
    "        else:\n",
    "            C=1\n",
    "        Before=int(P.history['accuracy'][-i]*100)\n",
    "        print(Before)\n",
    "    if C==Epoch_S:\n",
    "        break\n",
    "    P = siamese_net.fit([l, r], lbls, epochs = Epoch_S, shuffle=True, batch_size=128, callbacks=history)\n",
    "print(j+1)\n"
   ]
  },
  {
   "cell_type": "markdown",
   "metadata": {
    "heading_collapsed": true,
    "id": "QVF4gne7y52D"
   },
   "source": [
    "### Model evaluation"
   ]
  },
  {
   "cell_type": "code",
   "execution_count": 45,
   "metadata": {
    "hidden": true,
    "id": "vOrTcoNLy52F"
   },
   "outputs": [],
   "source": [
    "valid_ds = {}\n",
    "\n",
    "for i, task in enumerate(tox21_tasks_test):\n",
    "    temp = []\n",
    "    for j , data in enumerate(valid_dataset):\n",
    "        smiles, embbed_drug, onehot_task, embbed_task, lbl, task_name = data\n",
    "        if task ==  task_name:\n",
    "            temp.append(data)\n",
    "    \n",
    "    valid_ds[task] = temp"
   ]
  },
  {
   "cell_type": "code",
   "execution_count": 46,
   "metadata": {
    "colab": {
     "base_uri": "https://localhost:8080/"
    },
    "hidden": true,
    "id": "ZjQ0tZSJy52G",
    "outputId": "134a0ef5-bcb8-466e-ed15-7d508bf4faf6"
   },
   "outputs": [
    {
     "name": "stdout",
     "output_type": "stream",
     "text": [
      "SR-HSE : \n",
      "203/203 [==============================] - 0s 784us/step - loss: 0.1890 - accuracy: 0.9394 - mae: 0.1164 - mse: 0.0499 - auc_2: 0.8020\n",
      "SR-MMP : \n",
      "182/182 [==============================] - 0s 753us/step - loss: 0.3250 - accuracy: 0.8642 - mae: 0.1974 - mse: 0.0994 - auc_2: 0.8466\n",
      "SR-p53 : \n",
      "212/212 [==============================] - 0s 732us/step - loss: 0.1863 - accuracy: 0.9377 - mae: 0.1156 - mse: 0.0504 - auc_2: 0.8412\n"
     ]
    }
   ],
   "source": [
    "task_scores = [tox21_tasks_test for tox21_tasks_test in range(len(tox21_tasks_test))]\n",
    "\n",
    "for i, task in enumerate(tox21_tasks_test):\n",
    "    print(task,\": \")\n",
    "\n",
    "    y_test = []\n",
    "    l_val = []\n",
    "    r_val = []\n",
    "    lbls_valid = []\n",
    "    for data in valid_ds[task]:\n",
    "       \n",
    "        smiles, embbed_drug, onehot_task, embbed_task, lbl, task_name = data\n",
    "        l_val.append(embbed_drug[0])\n",
    "        r_val.append(embbed_task)\n",
    "        lbls_valid.append(lbl)\n",
    "            \n",
    "    l1 = np.asarray(l_val)\n",
    "    r1 = np.asarray(r_val)\n",
    "    lbls_valid = np.asarray(lbls_valid)\n",
    "\n",
    "    score = siamese_net.evaluate([l1,r1],lbls_valid)\n",
    " \n",
    "    result =(score[1], score[4])\n",
    "    task_scores[i] = task,result\n"
   ]
  }
 ],
 "metadata": {
  "colab": {
   "collapsed_sections": [
    "2c_4DEdVIBw4",
    "TqRcDqfVg1-u",
    "4sXOF78fi_l1",
    "qgEyQDvTR0dc",
    "JYgeHvfDR_G-",
    "LQNN1GRCiSpw",
    "JlhliyMkZLny",
    "G2xxKRnXk_bT",
    "PcFWBaEMSFB7",
    "VoOtM-2vik1P",
    "Ub4lZM_hjD42",
    "0dj6NCbDx6KH",
    "0fI1XZ0bSKR-",
    "sib1-l7xivgX",
    "NqdDDrG9jG2X",
    "Zmg-EGEczLAr",
    "X6Df06l0i7r2",
    "ZPVtZ1ZejLDU",
    "Gha2SSiZzQpP",
    "LB42ZdTCyR-N",
    "KcaEHmQMcFau",
    "Mi2yDJQVy52B",
    "QVF4gne7y52D",
    "u8rUwI6DGHfr",
    "g7JX0liYGHfu",
    "ScVDqpneGHf3",
    "c5oS9piaGHf7",
    "wUV7a4ZXGHf9",
    "vuvzISEVGHf-",
    "y5y2ITukGHf_",
    "rUaD5zAqOzPP"
   ],
   "provenance": []
  },
  "gpuClass": "standard",
  "hide_input": false,
  "kernelspec": {
   "display_name": "Python 3 (ipykernel)",
   "language": "python",
   "name": "python3"
  },
  "language_info": {
   "codemirror_mode": {
    "name": "ipython",
    "version": 3
   },
   "file_extension": ".py",
   "mimetype": "text/x-python",
   "name": "python",
   "nbconvert_exporter": "python",
   "pygments_lexer": "ipython3",
   "version": "3.11.7"
  },
  "toc": {
   "base_numbering": 1,
   "nav_menu": {},
   "number_sections": true,
   "sideBar": true,
   "skip_h1_title": false,
   "title_cell": "Table of Contents",
   "title_sidebar": "Contents",
   "toc_cell": false,
   "toc_position": {},
   "toc_section_display": true,
   "toc_window_display": false
  }
 },
 "nbformat": 4,
 "nbformat_minor": 1
}
